{
 "cells": [
  {
   "cell_type": "code",
   "execution_count": 1,
   "id": "accepting-hampshire",
   "metadata": {},
   "outputs": [
    {
     "name": "stdout",
     "output_type": "stream",
     "text": [
      "Starting Spark application\n"
     ]
    },
    {
     "data": {
      "text/html": [
       "<table><tr><th>ID</th><th>YARN Application ID</th><th>Kind</th><th>State</th><th>Spark UI</th><th>Driver log</th><th>User</th><th>Current session?</th></tr><tr><td class=\"sessionId\">1</td><td>None</td><td>pyspark</td><td>idle</td><td><a target=\"_blank\" href=\"/spark/erin/40447/jobs\">Link</a></td><td></td><td>erin</td><td>✔</td></tr></table>"
      ],
      "text/plain": [
       "<IPython.core.display.HTML object>"
      ]
     },
     "metadata": {},
     "output_type": "display_data"
    },
    {
     "data": {
      "application/vnd.jupyter.widget-view+json": {
       "model_id": "",
       "version_major": 2,
       "version_minor": 0
      },
      "text/plain": [
       "FloatProgress(value=0.0, bar_style='info', description='Progress:', layout=Layout(height='25px', width='50%'),…"
      ]
     },
     "metadata": {},
     "output_type": "display_data"
    },
    {
     "name": "stdout",
     "output_type": "stream",
     "text": [
      "SparkSession available as 'spark'.\n"
     ]
    },
    {
     "data": {
      "application/vnd.jupyter.widget-view+json": {
       "model_id": "",
       "version_major": 2,
       "version_minor": 0
      },
      "text/plain": [
       "FloatProgress(value=0.0, bar_style='info', description='Progress:', layout=Layout(height='25px', width='50%'),…"
      ]
     },
     "metadata": {},
     "output_type": "display_data"
    }
   ],
   "source": [
    "df=spark.sql(\"select * from user_erin.nbabetting1\")"
   ]
  },
  {
   "cell_type": "code",
   "execution_count": 2,
   "id": "clinical-cookbook",
   "metadata": {},
   "outputs": [
    {
     "data": {
      "application/vnd.jupyter.widget-view+json": {
       "model_id": "",
       "version_major": 2,
       "version_minor": 0
      },
      "text/plain": [
       "FloatProgress(value=0.0, bar_style='info', description='Progress:', layout=Layout(height='25px', width='50%'),…"
      ]
     },
     "metadata": {},
     "output_type": "display_data"
    },
    {
     "name": "stdout",
     "output_type": "stream",
     "text": [
      "+--------+-------+-------+-------+-------+----+----------+-----+------+------+--------------------+-------------------+-------------------+--------------------+-------------------+--------------------+--------------------+-------------------+--------------------+--------------------+--------------------+--------------------+--------------------+--------------------+--------------------+--------------------+--------------------+--------------------+--------------------+--------------------+----------+-------------------+--------------------+--------------------+--------------------+--------------------+-------------------+-------------------+-------------------+--------------------+--------------------+--------------------+-------------------+--------------------+--------------------+--------------------+--------------------+--------------------+--------------------+-------------------+--------------------+------+-------+\n",
      "|      id|game_id|team_id|playoff| season|home|  realdate|month|  year|curwin|                  fg|                fga|             fg_pct|                 fg3|               fg3a|             fg3_pct|                  ft|                fta|              ft_pct|                 orb|                 drb|                 trb|                 ast|                 stl|                 blk|                 tov|                  pf|       number_of_ots|          attendance|                 win|newteam_id|              newfg|              newfga|           newfg_pct|              newfg3|             newfg3a|         newfg3_pct|              newft|             newfta|           newft_pct|              neworb|              newdrb|             newtrb|              newast|              newstl|              newblk|              newtov|               newpf|    newnumber_of_ots|      newattendance|              newwin|  eelo|enewelo|\n",
      "+--------+-------+-------+-------+-------+----+----------+-----+------+------+--------------------+-------------------+-------------------+--------------------+-------------------+--------------------+--------------------+-------------------+--------------------+--------------------+--------------------+--------------------+--------------------+--------------------+--------------------+--------------------+--------------------+--------------------+--------------------+--------------------+----------+-------------------+--------------------+--------------------+--------------------+--------------------+-------------------+-------------------+-------------------+--------------------+--------------------+--------------------+-------------------+--------------------+--------------------+--------------------+--------------------+--------------------+--------------------+-------------------+--------------------+------+-------+\n",
      "|102073.0|  51056|   10.0|  false|2009-10| 1.0|2010-01-22|  1.0|2010.0|   1.0|  0.2567470391121399|0.24641248636405588|0.09597161164435378|-0.34200729566092125|-0.6630940075785168| 0.32335593892371073|   1.159305484840328| 1.0233513412924724| 0.38158453135192494|-0.12300345064037674|-0.33937665444052034|-0.35408376880110115|-0.18837143854231436|  0.6487232408843346|  0.3340984520270692|-0.23512487352900596|  0.8978990179941946| 0.17478172487641064|-0.30127750748889104|-0.24999527976814184|       3.0|-1.0372111306856937| -0.7193236532665205| -0.7188086524444919| -1.2538463905112374| -1.3500605477464094|-0.7590706895163934|  0.684880082593122|0.46869742765949546|  0.6102490162609949|-0.18779464665944112| -1.0241845039338537|-0.9611614750100886|-0.47976151625939534| -0.2979473207632381|-0.15427645725848693|-0.33290608074851114|   0.148072205795797|-0.23431935680797217|-1.4488117885262843| -0.9999811190725671|1572.0| 1499.0|\n",
      "|102797.0|  51418|   13.0|  false|2009-10| 1.0|2010-03-15|  3.0|2010.0|   0.0|   -0.24645891580924|-0.1791661514392489|-0.1088488414829529|-0.01635047607152...|-0.2967118528223083| 0.41125042599393025| -1.0271768037772298|-1.0439950640668059| -0.3770008233464176|-0.09060785263084484| -0.6817805791871872| -0.6196802652675331| -0.3097839709244313| -0.5991606812874664|  0.4317734338841804|  0.6774997271863761| -0.6594335919563238|-0.23431935680797217|-0.20484253574424577| -0.7499858393044254|      19.0| 0.4005201690896769|  0.1154652131938082|  0.3187982584531817| -0.7002297972092599| -0.8920828543011473|-0.0402623500517193|-0.6558873585402859|-0.7246488713690308| 0.00773624650058909| 0.07137013741681644| -0.7959152207694093|-0.6196802652675333|-0.01839389320735...| 0.43357084050988615|-0.30078893004415375|0.025625012389674212|-0.39987815696457074|-0.23431935680797217|-0.4102249429941069| -0.7499858393044256|1257.0| 1489.0|\n",
      "|102817.0|  51428|    6.0|  false|2009-10| 1.0|2010-03-17|  3.0|2010.0|   1.0|    0.25674703911214|-0.4574291069260254| 0.6113989057779055|-0.34200729566092125|-0.3425096221668339|-0.07879144027428137|0.004182766325391...| 0.5023128163645243| -1.0037108930972016| 0.16855693144541303| 0.34543119505281306|  0.3857921856411028| 0.49153874279754184|-0.03976444031390014|-0.00776398447282...| -0.3654998164883464|  -0.544075620848878|-0.23431935680797217|  1.0008040246832433|  0.7499858393044254|      12.0|-0.5340051757643137|-0.19553456058552973|-0.47572503774395225|-0.21174456782516182| -0.3577755452816758| 0.1752597483807375| 0.6023713169849123| 0.4855051220120099| 0.09242679646691063|-0.02581665661178005| -0.5676459376049647|-0.4868820170343171|-0.11552391911304397| 0.21841844013543787| -0.6426513665440436|  0.2537811625685201|  0.4653066263412729|-0.23431935680797217|-0.4601177378218195|-0.49999055953628363|1776.0| 1362.0|\n",
      "|103379.0|  51709|   29.0|   true|2009-10| 1.0|2010-05-08|  5.0|2010.0|   0.0| 0.01712515581624488|-0.5883763800962728| 0.5528787763129611| -0.5699670693735007|-0.8615510080714638|  0.2414816222007663|  1.2211870590464853| 1.5443898662204207|-0.30319905837576544|-0.05821225462131181| -0.7730882924529648| -0.6765938002246256| 0.49153874279754195| -0.4270387609879069|-0.34962642097270963|-0.16993740204933566|   1.676565322969454|-0.23431935680797217|  0.6979919309964745|-5.55111512312578...|      14.0|-0.2224967274796502| -0.4574291069260251| 0.10497470848511471| -0.5699670693735001|-0.43410516085588646|-0.5146517734170148|0.04543714912949643|0.28381278978183644|-0.48830840330215564| 0.36293051950260624| 0.11716191188836886| 0.3099074723649792|-0.23693645149516102|-0.42703876098790694|   0.871310852241181|-0.00696872335016...|   0.782541046886749|-0.23431935680797217|0.42674894043783856| 0.49999055953628363|1775.0| 1761.0|\n",
      "|103963.0|  52001|    7.0|  false|2010-11| 1.0|2010-12-01| 12.0|2010.0|   1.0|-0.43815642244595554|-0.7847972898516441|0.09822238585454385| -0.5699670693735006|-0.6936258538082014|0.006694978657028269| 0.39609940296438817| 0.1997743180192641|  0.5775826612739852| -0.2201902446689733|-0.13393429959252026|-0.24025669888691586|  0.4186912233682716|-0.47006924106279635|-0.30078893004415386| -0.4306872879680164|-0.16916221474967907|-0.23431935680797217|   0.143098192928345| 0.49999055953628363|      18.0|0.25674703911213986|  0.3446229412417414| 0.04420380480997916|-0.24431024978410157| -0.5714984688894651|0.49192070864741977| 0.1898274889438639|0.16615892931423543|0.017415166496739604|  0.6544909015883967|-0.13393429959252057| 0.2719651157269176|-0.16408893206589092|-0.34097780083812773|  1.0666608159554039|  0.7426871986660464|  0.7537015541098875| 0.17478172487641075|-1.3567221493846828|-0.49999055953628363|1728.0| 1407.0|\n",
      "+--------+-------+-------+-------+-------+----+----------+-----+------+------+--------------------+-------------------+-------------------+--------------------+-------------------+--------------------+--------------------+-------------------+--------------------+--------------------+--------------------+--------------------+--------------------+--------------------+--------------------+--------------------+--------------------+--------------------+--------------------+--------------------+----------+-------------------+--------------------+--------------------+--------------------+--------------------+-------------------+-------------------+-------------------+--------------------+--------------------+--------------------+-------------------+--------------------+--------------------+--------------------+--------------------+--------------------+--------------------+-------------------+--------------------+------+-------+\n",
      "only showing top 5 rows"
     ]
    }
   ],
   "source": [
    "df.show(5)"
   ]
  },
  {
   "cell_type": "code",
   "execution_count": 3,
   "id": "loving-review",
   "metadata": {},
   "outputs": [
    {
     "data": {
      "application/vnd.jupyter.widget-view+json": {
       "model_id": "",
       "version_major": 2,
       "version_minor": 0
      },
      "text/plain": [
       "FloatProgress(value=0.0, bar_style='info', description='Progress:', layout=Layout(height='25px', width='50%'),…"
      ]
     },
     "metadata": {},
     "output_type": "display_data"
    }
   ],
   "source": [
    "from pyspark.ml.feature import VectorAssembler\n",
    "df_assembler1 = VectorAssembler(inputCols=['fg','fga','fg_pct','fg3','fg3a','fg3_pct','ft','fta','ft_pct','orb','drb','trb','ast','stl','blk','tov','pf','number_of_ots','attendance','win','newfg','newfga','newfg_pct','newfg3','newfg3a','newfg3_pct','newft','newfta','newft_pct','neworb','newdrb','newtrb','newast','newstl','newblk','newtov','newpf','newnumber_of_ots','newattendance','newwin','home','eelo','enewelo'],outputCol='features')\n",
    "today= df_assembler1.transform(df)\n",
    "today=today.select(\"game_id\",\"curwin\",\"features\",\"year\",\"season\")"
   ]
  },
  {
   "cell_type": "code",
   "execution_count": 4,
   "id": "three-arcade",
   "metadata": {},
   "outputs": [
    {
     "data": {
      "application/vnd.jupyter.widget-view+json": {
       "model_id": "",
       "version_major": 2,
       "version_minor": 0
      },
      "text/plain": [
       "FloatProgress(value=0.0, bar_style='info', description='Progress:', layout=Layout(height='25px', width='50%'),…"
      ]
     },
     "metadata": {},
     "output_type": "display_data"
    },
    {
     "name": "stdout",
     "output_type": "stream",
     "text": [
      "root\n",
      " |-- game_id: integer (nullable = true)\n",
      " |-- curwin: double (nullable = true)\n",
      " |-- features: vector (nullable = true)\n",
      " |-- year: double (nullable = true)\n",
      " |-- season: string (nullable = true)"
     ]
    }
   ],
   "source": [
    "today.printSchema()"
   ]
  },
  {
   "cell_type": "code",
   "execution_count": 5,
   "id": "alternate-direction",
   "metadata": {},
   "outputs": [
    {
     "data": {
      "application/vnd.jupyter.widget-view+json": {
       "model_id": "",
       "version_major": 2,
       "version_minor": 0
      },
      "text/plain": [
       "FloatProgress(value=0.0, bar_style='info', description='Progress:', layout=Layout(height='25px', width='50%'),…"
      ]
     },
     "metadata": {},
     "output_type": "display_data"
    }
   ],
   "source": [
    "dftrain=today.filter(today['season']!=\"2019-20\")\n",
    "dftest=today.filter(today['season']== \"2019-20\")"
   ]
  },
  {
   "cell_type": "code",
   "execution_count": 6,
   "id": "stock-partnership",
   "metadata": {},
   "outputs": [
    {
     "data": {
      "application/vnd.jupyter.widget-view+json": {
       "model_id": "",
       "version_major": 2,
       "version_minor": 0
      },
      "text/plain": [
       "FloatProgress(value=0.0, bar_style='info', description='Progress:', layout=Layout(height='25px', width='50%'),…"
      ]
     },
     "metadata": {},
     "output_type": "display_data"
    },
    {
     "name": "stdout",
     "output_type": "stream",
     "text": [
      "824"
     ]
    }
   ],
   "source": [
    "dftest.count()"
   ]
  },
  {
   "cell_type": "code",
   "execution_count": 7,
   "id": "adjacent-horror",
   "metadata": {},
   "outputs": [
    {
     "data": {
      "application/vnd.jupyter.widget-view+json": {
       "model_id": "",
       "version_major": 2,
       "version_minor": 0
      },
      "text/plain": [
       "FloatProgress(value=0.0, bar_style='info', description='Progress:', layout=Layout(height='25px', width='50%'),…"
      ]
     },
     "metadata": {},
     "output_type": "display_data"
    }
   ],
   "source": [
    "train=dftrain.filter(today['season']!='2018-19')\n",
    "test=dftrain.filter(today['season']=='2018-19')"
   ]
  },
  {
   "cell_type": "code",
   "execution_count": 8,
   "id": "compliant-alfred",
   "metadata": {},
   "outputs": [
    {
     "data": {
      "application/vnd.jupyter.widget-view+json": {
       "model_id": "",
       "version_major": 2,
       "version_minor": 0
      },
      "text/plain": [
       "FloatProgress(value=0.0, bar_style='info', description='Progress:', layout=Layout(height='25px', width='50%'),…"
      ]
     },
     "metadata": {},
     "output_type": "display_data"
    },
    {
     "name": "stdout",
     "output_type": "stream",
     "text": [
      "+-------+------+--------------------+------+-------+\n",
      "|game_id|curwin|            features|  year| season|\n",
      "+-------+------+--------------------+------+-------+\n",
      "|  51056|   1.0|[0.25674703911213...|2010.0|2009-10|\n",
      "|  51418|   0.0|[-0.2464589158092...|2010.0|2009-10|\n",
      "+-------+------+--------------------+------+-------+\n",
      "only showing top 2 rows"
     ]
    }
   ],
   "source": [
    "train.show(2)"
   ]
  },
  {
   "cell_type": "code",
   "execution_count": 9,
   "id": "ecological-bruce",
   "metadata": {},
   "outputs": [
    {
     "data": {
      "application/vnd.jupyter.widget-view+json": {
       "model_id": "",
       "version_major": 2,
       "version_minor": 0
      },
      "text/plain": [
       "FloatProgress(value=0.0, bar_style='info', description='Progress:', layout=Layout(height='25px', width='50%'),…"
      ]
     },
     "metadata": {},
     "output_type": "display_data"
    },
    {
     "name": "stdout",
     "output_type": "stream",
     "text": [
      "lrresult 0.6692073170731707"
     ]
    }
   ],
   "source": [
    "from pyspark.ml.classification import LogisticRegression\n",
    "from pyspark.ml.evaluation import MulticlassClassificationEvaluator\n",
    "evaluator  = MulticlassClassificationEvaluator(labelCol=\"curwin\", predictionCol=\"prediction\",metricName='accuracy')\n",
    "lr = LogisticRegression(featuresCol=\"features\",labelCol = 'curwin').fit(train)\n",
    "lrpredictions= lr.transform(test)\n",
    "lracc=evaluator.evaluate(lrpredictions)\n",
    "print(\"lrresult\",lracc)"
   ]
  },
  {
   "cell_type": "code",
   "execution_count": 10,
   "id": "heavy-sharing",
   "metadata": {},
   "outputs": [
    {
     "data": {
      "application/vnd.jupyter.widget-view+json": {
       "model_id": "",
       "version_major": 2,
       "version_minor": 0
      },
      "text/plain": [
       "FloatProgress(value=0.0, bar_style='info', description='Progress:', layout=Layout(height='25px', width='50%'),…"
      ]
     },
     "metadata": {},
     "output_type": "display_data"
    },
    {
     "name": "stdout",
     "output_type": "stream",
     "text": [
      "dtresult 0.6440548780487805"
     ]
    }
   ],
   "source": [
    "from pyspark.ml.classification import DecisionTreeClassifier\n",
    "dt = DecisionTreeClassifier(featuresCol=\"features\",labelCol = 'curwin')\n",
    "dtmodel= dt.fit(train)\n",
    "dtpredictions=dtmodel.transform(test)\n",
    "dtroc=evaluator.evaluate(dtpredictions)\n",
    "print(\"dtresult\",dtroc)"
   ]
  },
  {
   "cell_type": "code",
   "execution_count": 11,
   "id": "baking-middle",
   "metadata": {},
   "outputs": [
    {
     "data": {
      "application/vnd.jupyter.widget-view+json": {
       "model_id": "",
       "version_major": 2,
       "version_minor": 0
      },
      "text/plain": [
       "FloatProgress(value=0.0, bar_style='info', description='Progress:', layout=Layout(height='25px', width='50%'),…"
      ]
     },
     "metadata": {},
     "output_type": "display_data"
    },
    {
     "name": "stdout",
     "output_type": "stream",
     "text": [
      "rfresult 0.6509146341463414"
     ]
    }
   ],
   "source": [
    "from pyspark.ml.classification import RandomForestClassifier\n",
    "rf = RandomForestClassifier(labelCol=\"curwin\", featuresCol=\"features\", numTrees=20)\n",
    "rfmodel= rf.fit(train)\n",
    "rfpredictions=rfmodel.transform(test)\n",
    "rfroc=evaluator.evaluate(rfpredictions)\n",
    "print(\"rfresult\",rfroc)"
   ]
  },
  {
   "cell_type": "code",
   "execution_count": 12,
   "id": "optional-treatment",
   "metadata": {},
   "outputs": [
    {
     "data": {
      "application/vnd.jupyter.widget-view+json": {
       "model_id": "",
       "version_major": 2,
       "version_minor": 0
      },
      "text/plain": [
       "FloatProgress(value=0.0, bar_style='info', description='Progress:', layout=Layout(height='25px', width='50%'),…"
      ]
     },
     "metadata": {},
     "output_type": "display_data"
    },
    {
     "name": "stdout",
     "output_type": "stream",
     "text": [
      "gbtresult 0.6402439024390244"
     ]
    }
   ],
   "source": [
    "from pyspark.ml.classification import GBTClassifier\n",
    "gbt = GBTClassifier(labelCol=\"curwin\", featuresCol=\"features\", maxIter=10)\n",
    "gbtmodel=gbt.fit(train)\n",
    "gbtpredictions=gbtmodel.transform(test)\n",
    "gbtroc=evaluator.evaluate(gbtpredictions)\n",
    "print(\"gbtresult\",gbtroc)"
   ]
  },
  {
   "cell_type": "code",
   "execution_count": 13,
   "id": "approximate-supervisor",
   "metadata": {},
   "outputs": [
    {
     "data": {
      "application/vnd.jupyter.widget-view+json": {
       "model_id": "",
       "version_major": 2,
       "version_minor": 0
      },
      "text/plain": [
       "FloatProgress(value=0.0, bar_style='info', description='Progress:', layout=Layout(height='25px', width='50%'),…"
      ]
     },
     "metadata": {},
     "output_type": "display_data"
    },
    {
     "name": "stdout",
     "output_type": "stream",
     "text": [
      "lsvcresult 0.6067073170731707"
     ]
    }
   ],
   "source": [
    "from pyspark.ml.classification import LinearSVC\n",
    "lsvc = LinearSVC(labelCol=\"curwin\", featuresCol=\"features\", maxIter=10, regParam=0.1)\n",
    "lsvcModel = lsvc.fit(train)\n",
    "lsvcpredictions=lsvcModel.transform(test)\n",
    "lsvcroc=evaluator.evaluate(lsvcpredictions)\n",
    "print(\"lsvcresult\",lsvcroc)"
   ]
  },
  {
   "cell_type": "markdown",
   "id": "going-steel",
   "metadata": {},
   "source": [
    "**将分类模型的准确李结果可视化**"
   ]
  },
  {
   "cell_type": "code",
   "execution_count": 14,
   "id": "imported-cutting",
   "metadata": {},
   "outputs": [
    {
     "data": {
      "application/vnd.jupyter.widget-view+json": {
       "model_id": "",
       "version_major": 2,
       "version_minor": 0
      },
      "text/plain": [
       "FloatProgress(value=0.0, bar_style='info', description='Progress:', layout=Layout(height='25px', width='50%'),…"
      ]
     },
     "metadata": {},
     "output_type": "display_data"
    },
    {
     "name": "stdout",
     "output_type": "stream",
     "text": [
      "(array([0, 1, 2, 3, 4]), <a list of 5 Text xticklabel objects>)"
     ]
    }
   ],
   "source": [
    "from matplotlib import pyplot as plt1\n",
    "import numpy as np\n",
    "result=[lracc,dtroc,rfroc,gbtroc,lsvcroc]\n",
    "name = [\"lr\",\"dt\",\"rf\",\"gbt\",\"lsvc\"]\n",
    "plt1.subplots_adjust(wspace =0.5, hspace =0)\n",
    "x = np.arange(len(name))\n",
    "width = 0.25\n",
    "plt1.bar(x, result,  width=width, label='c',color='darkorange',tick_label=name)\n",
    "plt1.ylim(0.55,0.85)\n",
    "\n",
    "plt1.ylabel('accuracy')\n",
    "plt1.xlabel('classifier models')\n",
    "plt1.xticks()\n"
   ]
  },
  {
   "cell_type": "code",
   "execution_count": 15,
   "id": "norman-bearing",
   "metadata": {},
   "outputs": [
    {
     "data": {
      "application/vnd.jupyter.widget-view+json": {
       "model_id": "",
       "version_major": 2,
       "version_minor": 0
      },
      "text/plain": [
       "FloatProgress(value=0.0, bar_style='info', description='Progress:', layout=Layout(height='25px', width='50%'),…"
      ]
     },
     "metadata": {},
     "output_type": "display_data"
    },
    {
     "data": {
      "image/png": "[encoded data removed]",
      "text/plain": [
       "<IPython.core.display.Image object>"
      ]
     },
     "metadata": {},
     "output_type": "display_data"
    }
   ],
   "source": [
    "%matplot plt1"
   ]
  },
  {
   "cell_type": "markdown",
   "id": "junior-springfield",
   "metadata": {},
   "source": [
    "结果分析：\n",
    "根据以上的准确度分析，选择表现较好的LogisticRegression模型，来进行后续的参数组合训练。"
   ]
  },
  {
   "cell_type": "code",
   "execution_count": 32,
   "id": "after-liverpool",
   "metadata": {},
   "outputs": [
    {
     "data": {
      "application/vnd.jupyter.widget-view+json": {
       "model_id": "",
       "version_major": 2,
       "version_minor": 0
      },
      "text/plain": [
       "FloatProgress(value=0.0, bar_style='info', description='Progress:', layout=Layout(height='25px', width='50%'),…"
      ]
     },
     "metadata": {},
     "output_type": "display_data"
    }
   ],
   "source": [
    "spark.stop()"
   ]
  }
 ],
 "metadata": {
  "kernelspec": {
   "display_name": "PySpark",
   "language": "python",
   "name": "pysparkkernel"
  },
  "language_info": {
   "codemirror_mode": {
    "name": "python",
    "version": 3
   },
   "file_extension": ".py",
   "mimetype": "text/x-python",
   "name": "pyspark",
   "pygments_lexer": "python3"
  }
 },
 "nbformat": 4,
 "nbformat_minor": 5
}
